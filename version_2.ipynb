{
 "cells": [
  {
   "cell_type": "code",
   "id": "initial_id",
   "metadata": {
    "collapsed": true,
    "ExecuteTime": {
     "end_time": "2025-07-24T13:37:47.709650Z",
     "start_time": "2025-07-24T13:37:46.869268Z"
    }
   },
   "source": "%pip install hf_xet -q",
   "outputs": [
    {
     "name": "stdout",
     "output_type": "stream",
     "text": [
      "Note: you may need to restart the kernel to use updated packages.\n"
     ]
    }
   ],
   "execution_count": 1
  },
  {
   "metadata": {
    "ExecuteTime": {
     "end_time": "2025-07-24T13:37:50.508329Z",
     "start_time": "2025-07-24T13:37:47.712654Z"
    }
   },
   "cell_type": "code",
   "source": [
    "import sys\n",
    "from collections import deque\n",
    "from io import BytesIO\n",
    "\n",
    "import PIL.Image\n",
    "import torch\n",
    "from PyQt5.QtCore import Qt, QPoint, QByteArray, QBuffer, QIODevice, QThread, pyqtSignal\n",
    "from PyQt5.QtGui import QPainter, QPen, QImage, QPixmap\n",
    "from PyQt5.QtWidgets import QApplication, QMainWindow, QAction, QFileDialog, QColorDialog, QInputDialog, QWidget, \\\n",
    "    QStatusBar\n",
    "from diffusers import StableDiffusionImg2ImgPipeline"
   ],
   "id": "e7b2c478f10c532f",
   "outputs": [],
   "execution_count": 2
  },
  {
   "metadata": {
    "ExecuteTime": {
     "end_time": "2025-07-24T13:37:50.595008Z",
     "start_time": "2025-07-24T13:37:50.590680Z"
    }
   },
   "cell_type": "code",
   "source": [
    "def pil_image_to_qimage(pil_image):\n",
    "    byte_data = BytesIO()\n",
    "    pil_image.save(byte_data, format=\"PNG\")\n",
    "    q_image = QImage()\n",
    "    q_image.loadFromData(byte_data.getvalue())\n",
    "    return q_image\n",
    "\n",
    "\n",
    "def qimage_to_pil_image(q_image):\n",
    "    byte_data = QByteArray()\n",
    "    buffer = QBuffer(byte_data)\n",
    "    buffer.open(QIODevice.WriteOnly)\n",
    "    q_image.save(buffer, \"PNG\")\n",
    "    pil_image = PIL.Image.open(BytesIO(byte_data.data()))\n",
    "    return pil_image"
   ],
   "id": "a811970c2ebf6c0b",
   "outputs": [],
   "execution_count": 3
  },
  {
   "metadata": {
    "ExecuteTime": {
     "end_time": "2025-07-24T13:37:50.605311Z",
     "start_time": "2025-07-24T13:37:50.601494Z"
    }
   },
   "cell_type": "code",
   "source": [
    "class StableDiffusionThread(QThread):\n",
    "    result_ready = pyqtSignal(QImage)\n",
    "\n",
    "    def __init__(self, pipeline, prompt, input_image):\n",
    "        super().__init__()\n",
    "        self.pipeline = pipeline\n",
    "        self.prompt = prompt\n",
    "        self.input_image = input_image\n",
    "\n",
    "    def run(self):\n",
    "        generator = torch.Generator(\"cuda\").manual_seed(42)  # Use any integer you want for reproducibility\n",
    "        response = self.pipeline(\n",
    "            prompt=self.prompt,\n",
    "            image=self.input_image,\n",
    "            strength=0.6,\n",
    "            guidance_scale=7.5,\n",
    "            generator=generator\n",
    "        )\n",
    "        output_image = pil_image_to_qimage(response.images[0])\n",
    "        self.result_ready.emit(output_image)"
   ],
   "id": "950edc0f4d8e8403",
   "outputs": [],
   "execution_count": 4
  },
  {
   "metadata": {
    "ExecuteTime": {
     "end_time": "2025-07-24T13:37:50.617511Z",
     "start_time": "2025-07-24T13:37:50.612315Z"
    }
   },
   "cell_type": "code",
   "source": [
    "class FloodFillThread(QThread):\n",
    "    result_ready = pyqtSignal(QPixmap)\n",
    "\n",
    "    def __init__(self, image, point, target_color, fill_color):\n",
    "        super().__init__()\n",
    "        self.image = image\n",
    "        self.point = point\n",
    "        self.target_color = target_color\n",
    "        self.fill_color = fill_color\n",
    "\n",
    "    def run(self):\n",
    "        image = self.image\n",
    "\n",
    "        def within_bounds(p):\n",
    "            return 0 <= p.x() < image.width() and 0 <= p.y() < image.height()\n",
    "\n",
    "        def flood_fill(seed_point):\n",
    "            queue = deque([seed_point])\n",
    "            while queue:\n",
    "                n = queue.popleft()\n",
    "                if image.pixelColor(n) != self.target_color:\n",
    "                    continue\n",
    "                image.setPixelColor(n, self.fill_color)\n",
    "                for delta in [(0, 1), (1, 0), (0, -1), (-1, 0)]:\n",
    "                    neighbor = QPoint(n.x() + delta[0], n.y() + delta[1])\n",
    "                    if within_bounds(neighbor):\n",
    "                        queue.append(neighbor)\n",
    "\n",
    "        flood_fill(self.point)\n",
    "        output_image = QPixmap.fromImage(image)\n",
    "        self.result_ready.emit(output_image)"
   ],
   "id": "67202e4fa1c16650",
   "outputs": [],
   "execution_count": 5
  },
  {
   "metadata": {
    "ExecuteTime": {
     "end_time": "2025-07-24T13:37:50.632839Z",
     "start_time": "2025-07-24T13:37:50.623834Z"
    }
   },
   "cell_type": "code",
   "source": [
    "class DrawingApp(QMainWindow):\n",
    "    def __init__(self, pipeline):\n",
    "        super().__init__()\n",
    "\n",
    "        # set up the prompt string for Stable Diffusion\n",
    "        self.last_prompt = \"\"\n",
    "\n",
    "        # set up the eraser mode\n",
    "        self.eraser_mode = False\n",
    "        self.eraser_width = 20  # Adjust size as needed\n",
    "\n",
    "        self.pipeline = pipeline\n",
    "        self.pipeline.to(\"cuda\")\n",
    "\n",
    "        self.is_processing_sd = False  # Flag to track Stable Diffusion processing state\n",
    "\n",
    "        self.undo_stack = []  # Stack to keep track of undo states\n",
    "        self.redo_stack = []  # Stack to keep track of redo states\n",
    "\n",
    "        self.init_ui()\n",
    "\n",
    "    def init_ui(self):\n",
    "        self.setWindowTitle('Drawing App')\n",
    "\n",
    "        # Menu Bar\n",
    "        menubar = self.menuBar()\n",
    "\n",
    "        # File Menu\n",
    "        file_menu = menubar.addMenu('File')\n",
    "        load_action = QAction('Load', self)\n",
    "        load_action.triggered.connect(self.load_image)\n",
    "        save_action = QAction('Save', self)\n",
    "        save_action.triggered.connect(self.save_image)\n",
    "        file_menu.addAction(load_action)\n",
    "        file_menu.addAction(save_action)\n",
    "\n",
    "        # Edit Menu\n",
    "        edit_menu = menubar.addMenu('Edit')\n",
    "        undo_action = QAction('Undo', self)\n",
    "        undo_action.triggered.connect(self.undo)\n",
    "        redo_action = QAction('Redo', self)\n",
    "        redo_action.triggered.connect(self.redo)\n",
    "        edit_menu.addAction(undo_action)\n",
    "        edit_menu.addAction(redo_action)\n",
    "\n",
    "        # Draw Menu\n",
    "        draw_menu = menubar.addMenu('Draw')\n",
    "        pen_color_action = QAction('Set Pen Color', self)\n",
    "        pen_color_action.triggered.connect(self.set_pen_color)\n",
    "        pen_width_action = QAction('Set Pen Width', self)\n",
    "        pen_width_action.triggered.connect(self.set_pen_width)\n",
    "        sd_action = QAction('Apply StableDiffusion', self)\n",
    "        sd_action.setShortcut('Ctrl+S')\n",
    "        sd_action.triggered.connect(self.apply_stable_diffusion)\n",
    "        self.fill_action = QAction('Fill with Color', self)\n",
    "        self.fill_action.setCheckable(True)\n",
    "        self.fill_action.triggered.connect(self.enable_fill)\n",
    "        draw_menu.addAction(pen_color_action)\n",
    "        draw_menu.addAction(pen_width_action)\n",
    "        draw_menu.addAction(sd_action)\n",
    "        draw_menu.addAction(self.fill_action)\n",
    "\n",
    "        # Status Bar\n",
    "        self.status_bar = QStatusBar()\n",
    "        self.setStatusBar(self.status_bar)\n",
    "\n",
    "        # Set central widget\n",
    "        self.canvas = Canvas(self)\n",
    "        self.setCentralWidget(self.canvas)\n",
    "\n",
    "        self.fill_mode = False\n",
    "        self.canvas.fill_completed.connect(self.reset_fill_action)\n",
    "\n",
    "        eraser_action = QAction('Eraser', self)\n",
    "        eraser_action.setCheckable(True)\n",
    "        eraser_action.triggered.connect(self.toggle_eraser)\n",
    "        draw_menu.addAction(eraser_action)\n",
    "        self.eraser_action = eraser_action\n",
    "\n",
    "        self.show()\n",
    "\n",
    "    def load_image(self):\n",
    "        options = QFileDialog.Options()\n",
    "        file_name, _ = QFileDialog.getOpenFileName(self, \"Load Image\", \"\",\n",
    "                                                   \"All Files (*);;Image Files (*.png *.jpg *.bmp)\", options=options)\n",
    "        if file_name:\n",
    "            self.canvas.load_image(QImage(file_name))\n",
    "            self.undo_stack.append(self.canvas.image.copy())  # Save state for undo\n",
    "\n",
    "    def save_image(self):\n",
    "        options = QFileDialog.Options()\n",
    "        file_name, _ = QFileDialog.getSaveFileName(self, \"Save Image\", \"\", \"PNG Files (*.png);;All Files (*)\",\n",
    "                                                   options=options)\n",
    "        if file_name:\n",
    "            self.canvas.save_image(file_name)\n",
    "\n",
    "    def set_pen_color(self):\n",
    "        color_dialog = QColorDialog(self)\n",
    "\n",
    "        # Calculate the position to center the dialog over the main window\n",
    "        dialog_x = self.x() + (self.width() - color_dialog.width()) // 4\n",
    "        dialog_y = self.y() + (self.height() - color_dialog.height()) // 2\n",
    "        color_dialog.move(dialog_x, dialog_y)\n",
    "\n",
    "        if color_dialog.exec_() == QColorDialog.Accepted:\n",
    "            color = color_dialog.selectedColor()\n",
    "            if color.isValid():\n",
    "                self.canvas.set_pen_color(color)\n",
    "\n",
    "    def set_pen_width(self):\n",
    "        width, ok = QInputDialog.getInt(self, 'Pen Width', 'Enter pen width:', 1, 1, 50, 1)\n",
    "        if ok:\n",
    "            self.canvas.set_pen_width(width)\n",
    "\n",
    "    def apply_stable_diffusion(self):\n",
    "        if self.is_processing_sd:\n",
    "            self.status_bar.showMessage(\"Stable Diffusion is already processing. Please wait.\")\n",
    "            return\n",
    "        prompt, ok = QInputDialog.getText(self, 'StableDiffusion', 'Enter prompt:', text=self.last_prompt)\n",
    "        if ok and prompt:\n",
    "            self.last_prompt = prompt\n",
    "            self.status_bar.showMessage(\"Processing image with Stable Diffusion...\")\n",
    "            self.is_processing_sd = True\n",
    "\n",
    "            input_image = qimage_to_pil_image(self.canvas.image.toImage())\n",
    "\n",
    "            self.sd_thread = StableDiffusionThread(self.pipeline, prompt, input_image)\n",
    "            self.sd_thread.result_ready.connect(self.update_image)\n",
    "            self.sd_thread.finished.connect(self.reset_sd_flag)\n",
    "            self.sd_thread.start()\n",
    "\n",
    "    def update_image(self, output_image):\n",
    "        self.status_bar.clearMessage()\n",
    "        self.undo_stack.append(self.canvas.image.copy())  # Save state for undo\n",
    "        self.redo_stack.clear()  # Clear redo stack on a new action\n",
    "        self.canvas.load_image(output_image)\n",
    "\n",
    "    def reset_sd_flag(self):\n",
    "        self.is_processing_sd = False\n",
    "\n",
    "    def enable_fill(self):\n",
    "        self.canvas.fill_mode = self.fill_action.isChecked()\n",
    "\n",
    "    def reset_fill_action(self):\n",
    "        self.fill_action.setChecked(False)\n",
    "\n",
    "    def undo(self):\n",
    "        if self.undo_stack:\n",
    "            self.redo_stack.append(self.canvas.image.copy())  # Save current state to redo stack\n",
    "            self.canvas.image = self.undo_stack.pop()  # Restore the last state from undo stack\n",
    "            self.canvas.update()\n",
    "\n",
    "    def redo(self):\n",
    "        if self.redo_stack:\n",
    "            self.undo_stack.append(self.canvas.image.copy())  # Save current state to undo stack\n",
    "            self.canvas.image = self.redo_stack.pop()  # Restore the last state from redo stack\n",
    "            self.canvas.update()\n",
    "\n",
    "    def toggle_eraser(self):\n",
    "        self.eraser_mode = self.eraser_action.isChecked()\n",
    "        if self.eraser_mode:\n",
    "            self.status_bar.showMessage(\"Eraser mode enabled\")\n",
    "        else:\n",
    "            self.status_bar.clearMessage()\n"
   ],
   "id": "8e5a9c534d4de962",
   "outputs": [],
   "execution_count": 6
  },
  {
   "metadata": {
    "ExecuteTime": {
     "end_time": "2025-07-24T13:37:50.645558Z",
     "start_time": "2025-07-24T13:37:50.639422Z"
    }
   },
   "cell_type": "code",
   "source": [
    "class Canvas(QWidget):\n",
    "    fill_completed = pyqtSignal()\n",
    "\n",
    "    def __init__(self, parent=None):\n",
    "        super().__init__(parent)\n",
    "        self.setFixedSize(800, 600)\n",
    "        self.image = QPixmap(self.size())\n",
    "        self.image.fill(Qt.white)\n",
    "        self.drawing = False\n",
    "        self.last_point = QPoint()\n",
    "        self.pen_color = Qt.black  # Default pen color\n",
    "        self.pen_width = 4  # Default pen width\n",
    "        self.fill_mode = False\n",
    "\n",
    "    def paintEvent(self, event):\n",
    "        canvas_painter = QPainter(self)\n",
    "        canvas_painter.drawPixmap(self.rect(), self.image, self.image.rect())\n",
    "\n",
    "    def mousePressEvent(self, event):\n",
    "        if event.button() == Qt.LeftButton:\n",
    "            if self.fill_mode:\n",
    "                self.parent().undo_stack.append(self.image.copy())  # Save state for undo\n",
    "                self.fill_color(event.pos())\n",
    "                self.fill_mode = False\n",
    "\n",
    "            else:\n",
    "                self.drawing = True\n",
    "                self.parent().undo_stack.append(self.image.copy())  # Save state for undo\n",
    "                self.parent().redo_stack.clear()  # Clear redo stack on new action\n",
    "                self.last_point = event.pos()\n",
    "\n",
    "    def mouseMoveEvent(self, event):\n",
    "        if event.buttons() & Qt.LeftButton and self.drawing:\n",
    "            painter = QPainter(self.image)\n",
    "            if self.parent().eraser_mode:\n",
    "                pen_color = Qt.white\n",
    "                pen_width = self.parent().eraser_width\n",
    "            else:\n",
    "                pen_color = self.pen_color\n",
    "                pen_width = self.pen_width\n",
    "            painter.setPen(QPen(pen_color, pen_width, Qt.SolidLine, Qt.RoundCap, Qt.RoundJoin))\n",
    "            painter.drawLine(self.last_point, event.pos())\n",
    "            self.last_point = event.pos()\n",
    "            self.update()\n",
    "\n",
    "    def mouseReleaseEvent(self, event):\n",
    "        if event.button() == Qt.LeftButton:\n",
    "            self.drawing = False\n",
    "\n",
    "    def save_image(self, path):\n",
    "        self.image.save(path)\n",
    "\n",
    "    def load_image(self, qimage):\n",
    "        self.image = QPixmap.fromImage(qimage)\n",
    "        self.update()\n",
    "\n",
    "    def clear_canvas(self):\n",
    "        self.image.fill(Qt.white)\n",
    "        self.update()\n",
    "\n",
    "    def set_pen_color(self, color):\n",
    "        self.pen_color = color\n",
    "\n",
    "    def set_pen_width(self, width):\n",
    "        self.pen_width = width\n",
    "\n",
    "    def fill_color(self, point):\n",
    "        target_color = self.image.toImage().pixelColor(point)\n",
    "        fill_color = self.pen_color\n",
    "        image = self.image.toImage()\n",
    "        if target_color == fill_color:\n",
    "            return\n",
    "\n",
    "        self.flood_fill_thread = FloodFillThread(image, point, target_color, fill_color)\n",
    "        self.flood_fill_thread.result_ready.connect(self.update_fill_image)\n",
    "        self.flood_fill_thread.start()\n",
    "\n",
    "    def update_fill_image(self, output_image):\n",
    "        self.parent().status_bar.clearMessage()\n",
    "        self.image = output_image\n",
    "        self.update()\n",
    "        self.fill_completed.emit()\n"
   ],
   "id": "3c9b402ab5987528",
   "outputs": [],
   "execution_count": 7
  },
  {
   "metadata": {
    "ExecuteTime": {
     "end_time": "2025-07-24T13:37:53.628552Z",
     "start_time": "2025-07-24T13:37:51.635270Z"
    }
   },
   "cell_type": "code",
   "source": [
    "model_id = \"stabilityai/stable-diffusion-2-1\"\n",
    "# model_id = \"stabilityai/stable-diffusion-3-medium-diffusers\"\n",
    "pipeline = StableDiffusionImg2ImgPipeline.from_pretrained(model_id, torch_dtype=torch.float16)\n"
   ],
   "id": "5ba82c339e860271",
   "outputs": [
    {
     "data": {
      "text/plain": [
       "Loading pipeline components...:   0%|          | 0/6 [00:00<?, ?it/s]"
      ],
      "application/vnd.jupyter.widget-view+json": {
       "version_major": 2,
       "version_minor": 0,
       "model_id": "a88d188577634463a0200b3efe091668"
      }
     },
     "metadata": {},
     "output_type": "display_data"
    }
   ],
   "execution_count": 8
  },
  {
   "metadata": {
    "ExecuteTime": {
     "end_time": "2025-07-24T13:37:55.872968Z",
     "start_time": "2025-07-24T13:37:55.869827Z"
    }
   },
   "cell_type": "code",
   "source": [
    "def run_app():\n",
    "    app = QApplication.instance()\n",
    "    if app is None:\n",
    "        app = QApplication(sys.argv)\n",
    "    window = DrawingApp(pipeline)\n",
    "    window.show()\n",
    "\n",
    "    app.exec_()\n",
    "\n"
   ],
   "id": "a74883d5deddea2f",
   "outputs": [],
   "execution_count": 9
  },
  {
   "metadata": {
    "ExecuteTime": {
     "end_time": "2025-07-24T13:44:52.556703Z",
     "start_time": "2025-07-24T13:37:58.449234Z"
    }
   },
   "cell_type": "code",
   "source": [
    "# Run the application\n",
    "run_app()"
   ],
   "id": "1208a6cbf6f24e51",
   "outputs": [
    {
     "data": {
      "text/plain": [
       "  0%|          | 0/30 [00:00<?, ?it/s]"
      ],
      "application/vnd.jupyter.widget-view+json": {
       "version_major": 2,
       "version_minor": 0,
       "model_id": "7c2e7bebc2ca48bfaf7d95083c1c07d0"
      }
     },
     "metadata": {},
     "output_type": "display_data"
    },
    {
     "data": {
      "text/plain": [
       "  0%|          | 0/30 [00:00<?, ?it/s]"
      ],
      "application/vnd.jupyter.widget-view+json": {
       "version_major": 2,
       "version_minor": 0,
       "model_id": "0be52ad28081464a987296a1958c9191"
      }
     },
     "metadata": {},
     "output_type": "display_data"
    },
    {
     "data": {
      "text/plain": [
       "  0%|          | 0/30 [00:00<?, ?it/s]"
      ],
      "application/vnd.jupyter.widget-view+json": {
       "version_major": 2,
       "version_minor": 0,
       "model_id": "cb7576b61f6b43808fe914406a6b3b40"
      }
     },
     "metadata": {},
     "output_type": "display_data"
    },
    {
     "data": {
      "text/plain": [
       "  0%|          | 0/30 [00:00<?, ?it/s]"
      ],
      "application/vnd.jupyter.widget-view+json": {
       "version_major": 2,
       "version_minor": 0,
       "model_id": "63d0bc6b15cf4f898625ee6d64c0e2f6"
      }
     },
     "metadata": {},
     "output_type": "display_data"
    },
    {
     "data": {
      "text/plain": [
       "  0%|          | 0/30 [00:00<?, ?it/s]"
      ],
      "application/vnd.jupyter.widget-view+json": {
       "version_major": 2,
       "version_minor": 0,
       "model_id": "48a3be44753a48a8b166a58711bc29ed"
      }
     },
     "metadata": {},
     "output_type": "display_data"
    },
    {
     "data": {
      "text/plain": [
       "  0%|          | 0/30 [00:00<?, ?it/s]"
      ],
      "application/vnd.jupyter.widget-view+json": {
       "version_major": 2,
       "version_minor": 0,
       "model_id": "7d4c43cadb904e1d97004beb5a5aeb66"
      }
     },
     "metadata": {},
     "output_type": "display_data"
    },
    {
     "data": {
      "text/plain": [
       "  0%|          | 0/30 [00:00<?, ?it/s]"
      ],
      "application/vnd.jupyter.widget-view+json": {
       "version_major": 2,
       "version_minor": 0,
       "model_id": "d8be7ae1fd7046e38c0f0627a5f89aa8"
      }
     },
     "metadata": {},
     "output_type": "display_data"
    },
    {
     "data": {
      "text/plain": [
       "  0%|          | 0/30 [00:00<?, ?it/s]"
      ],
      "application/vnd.jupyter.widget-view+json": {
       "version_major": 2,
       "version_minor": 0,
       "model_id": "307ee6aaf2484738b7bfcc61600627e6"
      }
     },
     "metadata": {},
     "output_type": "display_data"
    },
    {
     "data": {
      "text/plain": [
       "  0%|          | 0/30 [00:00<?, ?it/s]"
      ],
      "application/vnd.jupyter.widget-view+json": {
       "version_major": 2,
       "version_minor": 0,
       "model_id": "72981c44f8ec4042a98212b7a25e7618"
      }
     },
     "metadata": {},
     "output_type": "display_data"
    }
   ],
   "execution_count": 10
  }
 ],
 "metadata": {
  "kernelspec": {
   "display_name": "Python 3",
   "language": "python",
   "name": "python3"
  },
  "language_info": {
   "codemirror_mode": {
    "name": "ipython",
    "version": 2
   },
   "file_extension": ".py",
   "mimetype": "text/x-python",
   "name": "python",
   "nbconvert_exporter": "python",
   "pygments_lexer": "ipython2",
   "version": "2.7.6"
  }
 },
 "nbformat": 4,
 "nbformat_minor": 5
}
