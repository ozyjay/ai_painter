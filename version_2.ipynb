{
 "cells": [
  {
   "cell_type": "code",
   "id": "initial_id",
   "metadata": {
    "collapsed": true,
    "ExecuteTime": {
     "end_time": "2024-07-27T02:27:47.953592Z",
     "start_time": "2024-07-27T02:27:47.949921Z"
    }
   },
   "source": "",
   "outputs": [],
   "execution_count": 6
  },
  {
   "metadata": {
    "ExecuteTime": {
     "end_time": "2024-07-27T03:28:14.805605Z",
     "start_time": "2024-07-27T02:27:47.955600Z"
    }
   },
   "cell_type": "code",
   "source": [
    "import sys\n",
    "from io import BytesIO\n",
    "import PIL.Image\n",
    "import torch\n",
    "from PyQt5.QtWidgets import QApplication, QMainWindow, QAction, QFileDialog, QColorDialog, QInputDialog, QWidget, \\\n",
    "    QStatusBar\n",
    "from PyQt5.QtGui import QPainter, QPen, QImage, QPixmap\n",
    "from PyQt5.QtCore import Qt, QPoint, QByteArray, QBuffer, QIODevice, QThread, pyqtSignal\n",
    "from diffusers import StableDiffusionImg2ImgPipeline\n",
    "from collections import deque\n",
    "\n",
    "\n",
    "def pil_image_to_qimage(pil_image):\n",
    "    byte_data = BytesIO()\n",
    "    pil_image.save(byte_data, format=\"PNG\")\n",
    "    q_image = QImage()\n",
    "    q_image.loadFromData(byte_data.getvalue())\n",
    "    return q_image\n",
    "\n",
    "\n",
    "def qimage_to_pil_image(q_image):\n",
    "    byte_data = QByteArray()\n",
    "    buffer = QBuffer(byte_data)\n",
    "    buffer.open(QIODevice.WriteOnly)\n",
    "    q_image.save(buffer, \"PNG\")\n",
    "    pil_image = PIL.Image.open(BytesIO(byte_data.data()))\n",
    "    return pil_image\n",
    "\n",
    "\n",
    "class StableDiffusionThread(QThread):\n",
    "    result_ready = pyqtSignal(QImage)\n",
    "\n",
    "    def __init__(self, pipeline, prompt, input_image):\n",
    "        super().__init__()\n",
    "        self.pipeline = pipeline\n",
    "        self.prompt = prompt\n",
    "        self.input_image = input_image\n",
    "\n",
    "    def run(self):\n",
    "        response = self.pipeline(prompt=self.prompt, image=self.input_image, strength=0.6, guidance_scale=7.5)\n",
    "        output_image = pil_image_to_qimage(response.images[0])\n",
    "        self.result_ready.emit(output_image)\n",
    "\n",
    "\n",
    "class FloodFillThread(QThread):\n",
    "    result_ready = pyqtSignal(QPixmap)\n",
    "\n",
    "    def __init__(self, image, point, target_color, fill_color):\n",
    "        super().__init__()\n",
    "        self.image = image\n",
    "        self.point = point\n",
    "        self.target_color = target_color\n",
    "        self.fill_color = fill_color\n",
    "\n",
    "    def run(self):\n",
    "        image = self.image\n",
    "\n",
    "        def within_bounds(p):\n",
    "            return 0 <= p.x() < image.width() and 0 <= p.y() < image.height()\n",
    "\n",
    "        def flood_fill(seed_point):\n",
    "            queue = deque([seed_point])\n",
    "            while queue:\n",
    "                n = queue.popleft()\n",
    "                if image.pixelColor(n) != self.target_color:\n",
    "                    continue\n",
    "                image.setPixelColor(n, self.fill_color)\n",
    "                for delta in [(0, 1), (1, 0), (0, -1), (-1, 0)]:\n",
    "                    neighbor = QPoint(n.x() + delta[0], n.y() + delta[1])\n",
    "                    if within_bounds(neighbor):\n",
    "                        queue.append(neighbor)\n",
    "\n",
    "        flood_fill(self.point)\n",
    "        output_image = QPixmap.fromImage(image)\n",
    "        self.result_ready.emit(output_image)\n",
    "\n",
    "\n",
    "class DrawingApp(QMainWindow):\n",
    "    def __init__(self):\n",
    "        super().__init__()\n",
    "\n",
    "        model_id = \"stabilityai/stable-diffusion-2\"\n",
    "        self.pipeline = StableDiffusionImg2ImgPipeline.from_pretrained(model_id, torch_dtype=torch.float16)\n",
    "        self.pipeline.to(\"cuda\")\n",
    "\n",
    "        self.is_processing_sd = False  # Flag to track Stable Diffusion processing state\n",
    "\n",
    "        self.undo_stack = []  # Stack to keep track of undo states\n",
    "        self.redo_stack = []  # Stack to keep track of redo states\n",
    "\n",
    "        self.init_ui()\n",
    "\n",
    "    def init_ui(self):\n",
    "        self.setWindowTitle('Drawing App')\n",
    "\n",
    "        # Menu Bar\n",
    "        menubar = self.menuBar()\n",
    "\n",
    "        # File Menu\n",
    "        file_menu = menubar.addMenu('File')\n",
    "        load_action = QAction('Load', self)\n",
    "        load_action.triggered.connect(self.load_image)\n",
    "        save_action = QAction('Save', self)\n",
    "        save_action.triggered.connect(self.save_image)\n",
    "        file_menu.addAction(load_action)\n",
    "        file_menu.addAction(save_action)\n",
    "\n",
    "        # Edit Menu\n",
    "        edit_menu = menubar.addMenu('Edit')\n",
    "        undo_action = QAction('Undo', self)\n",
    "        undo_action.triggered.connect(self.undo)\n",
    "        redo_action = QAction('Redo', self)\n",
    "        redo_action.triggered.connect(self.redo)\n",
    "        edit_menu.addAction(undo_action)\n",
    "        edit_menu.addAction(redo_action)\n",
    "\n",
    "        # Draw Menu\n",
    "        draw_menu = menubar.addMenu('Draw')\n",
    "        pen_color_action = QAction('Set Pen Color', self)\n",
    "        pen_color_action.triggered.connect(self.set_pen_color)\n",
    "        pen_width_action = QAction('Set Pen Width', self)\n",
    "        pen_width_action.triggered.connect(self.set_pen_width)\n",
    "        sd_action = QAction('Apply StableDiffusion', self)\n",
    "        sd_action.triggered.connect(self.apply_stable_diffusion)\n",
    "        self.fill_action = QAction('Fill with Color', self)\n",
    "        self.fill_action.setCheckable(True)\n",
    "        self.fill_action.triggered.connect(self.enable_fill)\n",
    "        draw_menu.addAction(pen_color_action)\n",
    "        draw_menu.addAction(pen_width_action)\n",
    "        draw_menu.addAction(sd_action)\n",
    "        draw_menu.addAction(self.fill_action)\n",
    "\n",
    "        # Status Bar\n",
    "        self.status_bar = QStatusBar()\n",
    "        self.setStatusBar(self.status_bar)\n",
    "\n",
    "        # Set central widget\n",
    "        self.canvas = Canvas(self)\n",
    "        self.setCentralWidget(self.canvas)\n",
    "\n",
    "        self.fill_mode = False\n",
    "        self.canvas.fill_completed.connect(self.reset_fill_action)\n",
    "\n",
    "        self.show()\n",
    "\n",
    "    def load_image(self):\n",
    "        options = QFileDialog.Options()\n",
    "        file_name, _ = QFileDialog.getOpenFileName(self, \"Load Image\", \"\",\n",
    "                                                   \"All Files (*);;Image Files (*.png *.jpg *.bmp)\", options=options)\n",
    "        if file_name:\n",
    "            self.canvas.load_image(QImage(file_name))\n",
    "            self.undo_stack.append(self.canvas.image.copy())  # Save state for undo\n",
    "\n",
    "    def save_image(self):\n",
    "        options = QFileDialog.Options()\n",
    "        file_name, _ = QFileDialog.getSaveFileName(self, \"Save Image\", \"\", \"PNG Files (*.png);;All Files (*)\",\n",
    "                                                   options=options)\n",
    "        if file_name:\n",
    "            self.canvas.save_image(file_name)\n",
    "\n",
    "    def set_pen_color(self):\n",
    "        color_dialog = QColorDialog(self)\n",
    "        \n",
    "        # Calculate the position to center the dialog over the main window\n",
    "        dialog_x = self.x() + (self.width() - color_dialog.width()) // 4\n",
    "        dialog_y = self.y() + (self.height() - color_dialog.height()) // 2\n",
    "        color_dialog.move(dialog_x, dialog_y)\n",
    "        \n",
    "        if color_dialog.exec_() == QColorDialog.Accepted:\n",
    "            color = color_dialog.selectedColor()\n",
    "            if color.isValid():\n",
    "                self.canvas.set_pen_color(color)\n",
    "\n",
    "    def set_pen_width(self):\n",
    "        width, ok = QInputDialog.getInt(self, 'Pen Width', 'Enter pen width:', 1, 1, 50, 1)\n",
    "        if ok:\n",
    "            self.canvas.set_pen_width(width)\n",
    "\n",
    "    def apply_stable_diffusion(self):\n",
    "        if self.is_processing_sd:\n",
    "            self.status_bar.showMessage(\"Stable Diffusion is already processing. Please wait.\")\n",
    "            return\n",
    "        prompt, ok = QInputDialog.getText(self, 'StableDiffusion', 'Enter prompt:')\n",
    "        if ok and prompt:\n",
    "            self.status_bar.showMessage(\"Processing image with Stable Diffusion...\")\n",
    "            self.is_processing_sd = True\n",
    "            \n",
    "            input_image = qimage_to_pil_image(self.canvas.image.toImage())\n",
    "            \n",
    "            self.sd_thread = StableDiffusionThread(self.pipeline, prompt, input_image)\n",
    "            self.sd_thread.result_ready.connect(self.update_image)\n",
    "            self.sd_thread.finished.connect(self.reset_sd_flag)\n",
    "            self.sd_thread.start()\n",
    "\n",
    "    def update_image(self, output_image):\n",
    "        self.status_bar.clearMessage()\n",
    "        self.undo_stack.append(self.canvas.image.copy())  # Save state for undo\n",
    "        self.redo_stack.clear()  # Clear redo stack on new action\n",
    "        self.canvas.load_image(output_image)\n",
    "\n",
    "    def reset_sd_flag(self):\n",
    "        self.is_processing_sd = False\n",
    "\n",
    "    def enable_fill(self):\n",
    "        self.canvas.fill_mode = self.fill_action.isChecked()\n",
    "\n",
    "    def reset_fill_action(self):\n",
    "        self.fill_action.setChecked(False)\n",
    "\n",
    "    def undo(self):\n",
    "        if self.undo_stack:\n",
    "            self.redo_stack.append(self.canvas.image.copy())  # Save current state to redo stack\n",
    "            self.canvas.image = self.undo_stack.pop()  # Restore the last state from undo stack\n",
    "            self.canvas.update()\n",
    "\n",
    "    def redo(self):\n",
    "        if self.redo_stack:\n",
    "            self.undo_stack.append(self.canvas.image.copy())  # Save current state to undo stack\n",
    "            self.canvas.image = self.redo_stack.pop()  # Restore the last state from redo stack\n",
    "            self.canvas.update()\n",
    "\n",
    "\n",
    "class Canvas(QWidget):\n",
    "    fill_completed = pyqtSignal()\n",
    "\n",
    "    def __init__(self, parent=None):\n",
    "        super().__init__(parent)\n",
    "        self.setFixedSize(800, 600)\n",
    "        self.image = QPixmap(self.size())\n",
    "        self.image.fill(Qt.white)\n",
    "        self.drawing = False\n",
    "        self.last_point = QPoint()\n",
    "        self.pen_color = Qt.black  # Default pen color\n",
    "        self.pen_width = 4  # Default pen width\n",
    "        self.fill_mode = False\n",
    "\n",
    "    def paintEvent(self, event):\n",
    "        canvas_painter = QPainter(self)\n",
    "        canvas_painter.drawPixmap(self.rect(), self.image, self.image.rect())\n",
    "\n",
    "    def mousePressEvent(self, event):\n",
    "        if event.button() == Qt.LeftButton:\n",
    "            if self.fill_mode:\n",
    "                self.parent().undo_stack.append(self.image.copy())  # Save state for undo\n",
    "                self.fill_color(event.pos())\n",
    "                self.fill_mode = False\n",
    "\n",
    "            else:\n",
    "                self.drawing = True\n",
    "                self.parent().undo_stack.append(self.image.copy())  # Save state for undo\n",
    "                self.parent().redo_stack.clear()  # Clear redo stack on new action\n",
    "                self.last_point = event.pos()\n",
    "\n",
    "    def mouseMoveEvent(self, event):\n",
    "        if event.buttons() & Qt.LeftButton and self.drawing:\n",
    "            painter = QPainter(self.image)\n",
    "            painter.setPen(QPen(self.pen_color, self.pen_width, Qt.SolidLine, Qt.RoundCap, Qt.RoundJoin))\n",
    "            painter.drawLine(self.last_point, event.pos())\n",
    "            self.last_point = event.pos()\n",
    "            self.update()\n",
    "\n",
    "    def mouseReleaseEvent(self, event):\n",
    "        if event.button() == Qt.LeftButton:\n",
    "            self.drawing = False\n",
    "\n",
    "    def save_image(self, path):\n",
    "        self.image.save(path)\n",
    "\n",
    "    def load_image(self, qimage):\n",
    "        self.image = QPixmap.fromImage(qimage)\n",
    "        self.update()\n",
    "\n",
    "    def clear_canvas(self):\n",
    "        self.image.fill(Qt.white)\n",
    "        self.update()\n",
    "\n",
    "    def set_pen_color(self, color):\n",
    "        self.pen_color = color\n",
    "\n",
    "    def set_pen_width(self, width):\n",
    "        self.pen_width = width\n",
    "\n",
    "    def fill_color(self, point):\n",
    "        target_color = self.image.toImage().pixelColor(point)\n",
    "        fill_color = self.pen_color\n",
    "        image = self.image.toImage()\n",
    "        if target_color == fill_color:\n",
    "            return\n",
    "\n",
    "        self.flood_fill_thread = FloodFillThread(image, point, target_color, fill_color)\n",
    "        self.flood_fill_thread.result_ready.connect(self.update_fill_image)\n",
    "        self.flood_fill_thread.start()\n",
    "\n",
    "    def update_fill_image(self, output_image):\n",
    "        self.parent().status_bar.clearMessage()\n",
    "        self.image = output_image\n",
    "        self.update()\n",
    "        self.fill_completed.emit()\n",
    "\n",
    "\n",
    "def run_app():\n",
    "    app = QApplication.instance()\n",
    "    if app is None:\n",
    "        app = QApplication(sys.argv)\n",
    "    window = DrawingApp()\n",
    "    window.show()\n",
    "\n",
    "    app.exec_()\n",
    "\n",
    "\n",
    "# Run the application\n",
    "run_app()\n"
   ],
   "id": "8e5a9c534d4de962",
   "outputs": [
    {
     "data": {
      "text/plain": [
       "Loading pipeline components...:   0%|          | 0/6 [00:00<?, ?it/s]"
      ],
      "application/vnd.jupyter.widget-view+json": {
       "version_major": 2,
       "version_minor": 0,
       "model_id": "ada70174dc894a29ab90c563ceb4e433"
      }
     },
     "metadata": {},
     "output_type": "display_data"
    },
    {
     "data": {
      "text/plain": [
       "  0%|          | 0/30 [00:00<?, ?it/s]"
      ],
      "application/vnd.jupyter.widget-view+json": {
       "version_major": 2,
       "version_minor": 0,
       "model_id": "e5e7fc78553c4681aab785f954ab9da8"
      }
     },
     "metadata": {},
     "output_type": "display_data"
    },
    {
     "data": {
      "text/plain": [
       "  0%|          | 0/30 [00:00<?, ?it/s]"
      ],
      "application/vnd.jupyter.widget-view+json": {
       "version_major": 2,
       "version_minor": 0,
       "model_id": "175e108b39b7493e8b2d6fec3bb3ebe6"
      }
     },
     "metadata": {},
     "output_type": "display_data"
    },
    {
     "data": {
      "text/plain": [
       "  0%|          | 0/30 [00:00<?, ?it/s]"
      ],
      "application/vnd.jupyter.widget-view+json": {
       "version_major": 2,
       "version_minor": 0,
       "model_id": "9848383a09ab40d68369a557a2376f9d"
      }
     },
     "metadata": {},
     "output_type": "display_data"
    },
    {
     "data": {
      "text/plain": [
       "  0%|          | 0/30 [00:00<?, ?it/s]"
      ],
      "application/vnd.jupyter.widget-view+json": {
       "version_major": 2,
       "version_minor": 0,
       "model_id": "859d0f0e25b5432cba40d7e1b713ef86"
      }
     },
     "metadata": {},
     "output_type": "display_data"
    },
    {
     "data": {
      "text/plain": [
       "  0%|          | 0/30 [00:00<?, ?it/s]"
      ],
      "application/vnd.jupyter.widget-view+json": {
       "version_major": 2,
       "version_minor": 0,
       "model_id": "64f74235b2d64b3ab3c0d0261843975d"
      }
     },
     "metadata": {},
     "output_type": "display_data"
    },
    {
     "data": {
      "text/plain": [
       "  0%|          | 0/30 [00:00<?, ?it/s]"
      ],
      "application/vnd.jupyter.widget-view+json": {
       "version_major": 2,
       "version_minor": 0,
       "model_id": "2268ab7d436a4987b8ee4d86dead9ce8"
      }
     },
     "metadata": {},
     "output_type": "display_data"
    },
    {
     "data": {
      "text/plain": [
       "  0%|          | 0/30 [00:00<?, ?it/s]"
      ],
      "application/vnd.jupyter.widget-view+json": {
       "version_major": 2,
       "version_minor": 0,
       "model_id": "3dc2394d25974ecdaf9606aff06dbee6"
      }
     },
     "metadata": {},
     "output_type": "display_data"
    },
    {
     "data": {
      "text/plain": [
       "  0%|          | 0/30 [00:00<?, ?it/s]"
      ],
      "application/vnd.jupyter.widget-view+json": {
       "version_major": 2,
       "version_minor": 0,
       "model_id": "8ceb9ed3ef2e47d4a1b3846796addf3c"
      }
     },
     "metadata": {},
     "output_type": "display_data"
    }
   ],
   "execution_count": 7
  }
 ],
 "metadata": {
  "kernelspec": {
   "display_name": "Python 3",
   "language": "python",
   "name": "python3"
  },
  "language_info": {
   "codemirror_mode": {
    "name": "ipython",
    "version": 2
   },
   "file_extension": ".py",
   "mimetype": "text/x-python",
   "name": "python",
   "nbconvert_exporter": "python",
   "pygments_lexer": "ipython2",
   "version": "2.7.6"
  }
 },
 "nbformat": 4,
 "nbformat_minor": 5
}
