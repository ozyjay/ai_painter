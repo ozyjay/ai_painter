{
 "cells": [
  {
   "cell_type": "markdown",
   "id": "3e6b0880018d634d",
   "metadata": {},
   "source": [
    "# Drawing App with AI Painting Conversion\n",
    "\n",
    "This notebook demonstrates how to create a simple drawing application using PyQt5 and convert the drawing into a famous painting using a pre-trained model from Hugging Face. The application will allow users to draw stick figures and see them transformed into paintings.\n"
   ]
  },
  {
   "cell_type": "markdown",
   "id": "abfd9d1b92c71451",
   "metadata": {},
   "source": [
    "## Step 1: Import Libraries\n",
    "\n",
    "We need to import the necessary libraries for our application.\n"
   ]
  },
  {
   "cell_type": "code",
   "id": "e7010c4278ee80e7",
   "metadata": {
    "ExecuteTime": {
     "end_time": "2024-07-26T23:28:05.246851Z",
     "start_time": "2024-07-26T23:27:44.666795Z"
    }
   },
   "source": [
    "from PyQt5.QtWidgets import QApplication, QMainWindow, QVBoxLayout, QPushButton, QLabel, QWidget, QHBoxLayout, QColorDialog\n",
    "from PyQt5.QtGui import QPainter, QPen, QPixmap, QImage\n",
    "from PyQt5.QtCore import Qt, QPoint\n",
    "from PIL import Image\n",
    "from io import BytesIO\n",
    "import torch\n",
    "from diffusers import StableDiffusionImg2ImgPipeline\n",
    "import sys"
   ],
   "outputs": [],
   "execution_count": 1
  },
  {
   "cell_type": "markdown",
   "id": "8511707f4a4cbc10",
   "metadata": {},
   "source": [
    "## Step 2: Create the Drawing Canvas\n",
    "\n",
    "We will create a `Canvas` class that allows users to draw stick figures. The canvas will support drawing with a pen and erasing with an eraser.\n"
   ]
  },
  {
   "cell_type": "code",
   "id": "84e7b15412f340b3",
   "metadata": {
    "ExecuteTime": {
     "end_time": "2024-07-26T23:28:05.268610Z",
     "start_time": "2024-07-26T23:28:05.248856Z"
    }
   },
   "source": [
    "class Canvas(QWidget):\n",
    "    def __init__(self):\n",
    "        super().__init__()\n",
    "        self.setFixedSize(800, 500)\n",
    "        self.image = QPixmap(self.size())\n",
    "        self.image.fill(Qt.white)\n",
    "        self.drawing = False\n",
    "        self.last_point = QPoint()\n",
    "        self.eraser_mode = False\n",
    "        self.pen_color = Qt.black  # Default pen color\n",
    "\n",
    "    def paintEvent(self, event):\n",
    "        canvas_painter = QPainter(self)\n",
    "        canvas_painter.drawPixmap(self.rect(), self.image, self.image.rect())\n",
    "\n",
    "    def mousePressEvent(self, event):\n",
    "        if event.button() == Qt.LeftButton:\n",
    "            self.drawing = True\n",
    "            self.last_point = event.pos()\n",
    "\n",
    "    def mouseMoveEvent(self, event):\n",
    "        if event.buttons() & Qt.LeftButton and self.drawing:\n",
    "            painter = QPainter(self.image)\n",
    "            if self.eraser_mode:\n",
    "                painter.setPen(QPen(Qt.white, 20, Qt.SolidLine, Qt.RoundCap, Qt.RoundJoin))\n",
    "            else:\n",
    "                painter.setPen(QPen(self.pen_color, 4, Qt.SolidLine, Qt.RoundCap, Qt.RoundJoin))\n",
    "            painter.drawLine(self.last_point, event.pos())\n",
    "            self.last_point = event.pos()\n",
    "            self.update()\n",
    "\n",
    "    def mouseReleaseEvent(self, event):\n",
    "        if event.button() == Qt.LeftButton:\n",
    "            self.drawing = False\n",
    "\n",
    "    def save_image(self, path):\n",
    "        self.image.save(path)\n",
    "\n",
    "    def load_image(self, qimage):\n",
    "        self.image = QPixmap.fromImage(qimage)\n",
    "        self.update()\n",
    "\n",
    "    def clear_canvas(self):\n",
    "        self.image.fill(Qt.white)\n",
    "        self.update()\n",
    "\n",
    "    def toggle_eraser(self):\n",
    "        self.eraser_mode = not self.eraser_mode\n",
    "\n",
    "    def set_pen_color(self, color):\n",
    "        self.pen_color = color"
   ],
   "outputs": [],
   "execution_count": 2
  },
  {
   "cell_type": "markdown",
   "id": "77373877eb627e93",
   "metadata": {},
   "source": [
    "## Step 3: Create the Main Application Window\n",
    "\n",
    "We will create a `DrawingApp` class that includes the drawing canvas and a button to convert the drawing to a painting.\n"
   ]
  },
  {
   "cell_type": "code",
   "id": "2c8eea32ca30012",
   "metadata": {
    "ExecuteTime": {
     "end_time": "2024-07-26T23:28:05.395635Z",
     "start_time": "2024-07-26T23:28:05.269615Z"
    }
   },
   "source": [
    "class DrawingApp(QMainWindow):\n",
    "    def __init__(self):\n",
    "        super().__init__()\n",
    "        self.initUI()\n",
    "        self.generated_image = None\n",
    "\n",
    "    def initUI(self):\n",
    "        self.setWindowTitle('Drawing App')\n",
    "        self.setGeometry(100, 100, 800, 800)\n",
    "\n",
    "        self.canvas = Canvas()\n",
    "        main_layout = QVBoxLayout()\n",
    "        main_layout.addWidget(self.canvas)\n",
    "\n",
    "        self.painting_label = QLabel(self)\n",
    "        main_layout.addWidget(self.painting_label)\n",
    "\n",
    "        btn_layout = QHBoxLayout()\n",
    "        convert_btn = QPushButton('Convert to Painting', self)\n",
    "        convert_btn.clicked.connect(self.convert_to_painting)\n",
    "        btn_layout.addWidget(convert_btn)\n",
    "\n",
    "        clear_btn = QPushButton('Clear Canvas', self)\n",
    "        clear_btn.clicked.connect(self.canvas.clear_canvas)\n",
    "        btn_layout.addWidget(clear_btn)\n",
    "\n",
    "        eraser_btn = QPushButton('Eraser', self)\n",
    "        eraser_btn.setCheckable(True)\n",
    "        eraser_btn.clicked.connect(self.canvas.toggle_eraser)\n",
    "        btn_layout.addWidget(eraser_btn)\n",
    "\n",
    "        color_btn = QPushButton('Select Color', self)\n",
    "        color_btn.clicked.connect(self.select_color)\n",
    "        btn_layout.addWidget(color_btn)\n",
    "\n",
    "        copy_btn = QPushButton('Copy AI Image to Canvas', self)\n",
    "        copy_btn.clicked.connect(self.copy_image_to_canvas)\n",
    "        btn_layout.addWidget(copy_btn)\n",
    "\n",
    "        main_layout.addLayout(btn_layout)\n",
    "\n",
    "        container = QWidget()\n",
    "        container.setLayout(main_layout)\n",
    "        self.setCentralWidget(container)\n",
    "\n",
    "    def convert_to_painting(self):\n",
    "        self.canvas.save_image('stick_figure.png')\n",
    "        image, original_size = preprocess_image('stick_figure.png')\n",
    "        painting = convert_to_painting(image)\n",
    "        painting = painting.resize(original_size)\n",
    "        self.generated_image = painting  # Store the generated image\n",
    "        painting_qimage = self.pil_image_to_qimage(painting)\n",
    "        self.painting_label.setPixmap(QPixmap.fromImage(painting_qimage))\n",
    "\n",
    "    def copy_image_to_canvas(self):\n",
    "        if self.generated_image:\n",
    "            painting_qimage = self.pil_image_to_qimage(self.generated_image)\n",
    "            self.canvas.load_image(painting_qimage)\n",
    "\n",
    "    def pil_image_to_qimage(self, pil_image):\n",
    "        byte_data = BytesIO()\n",
    "        pil_image.save(byte_data, format=\"PNG\")\n",
    "        q_image = QImage()\n",
    "        q_image.loadFromData(byte_data.getvalue())\n",
    "        return q_image\n",
    "\n",
    "    def select_color(self):\n",
    "        color = QColorDialog.getColor()\n",
    "        if color.isValid():\n",
    "            self.canvas.set_pen_color(color)"
   ],
   "outputs": [],
   "execution_count": 3
  },
  {
   "cell_type": "markdown",
   "id": "178d32c9589116a2",
   "metadata": {},
   "source": [
    "## Step 4: Preprocess the Image\n",
    "\n",
    "If necessary, we might need to preprocess the drawn image before sending it to the AI model.\n"
   ]
  },
  {
   "cell_type": "code",
   "id": "53d2c5bc9a009b7",
   "metadata": {
    "ExecuteTime": {
     "end_time": "2024-07-26T23:28:05.402224Z",
     "start_time": "2024-07-26T23:28:05.397642Z"
    }
   },
   "source": [
    "def preprocess_image(image_path):\n",
    "    image = Image.open(image_path).convert(\"RGB\")\n",
    "    original_size = image.size\n",
    "    return image, original_size\n"
   ],
   "outputs": [],
   "execution_count": 4
  },
  {
   "cell_type": "markdown",
   "id": "33c02796bfda0945",
   "metadata": {},
   "source": [
    "## Step 5: Convert the Image to a Painting\n",
    "\n",
    "We will use a pre-trained model from Hugging Face to convert the drawing to a painting.\n"
   ]
  },
  {
   "cell_type": "code",
   "id": "f198d87aabd6b135",
   "metadata": {
    "ExecuteTime": {
     "end_time": "2024-07-26T23:28:05.410005Z",
     "start_time": "2024-07-26T23:28:05.403230Z"
    }
   },
   "source": [
    "def convert_to_painting(image):\n",
    "    # Ensure the image is in the correct format (PIL.Image)\n",
    "    if not isinstance(image, Image.Image):\n",
    "        raise ValueError(\"The input image must be a PIL.Image\")\n",
    "\n",
    "    # Debug: Print the type of the image to confirm it's a PIL.Image\n",
    "    print(f\"Type of image inside convert_to_painting: {type(image)}\")\n",
    "\n",
    "    # Load a pre-trained image-to-image translation model\n",
    "    model_id = \"stabilityai/stable-diffusion-2\"\n",
    "    pipe = StableDiffusionImg2ImgPipeline.from_pretrained(model_id, torch_dtype=torch.float16).to(\"cuda\")\n",
    "    prompt = \"A beautiful painting in the style of Van Gogh.\"\n",
    "\n",
    "    result = pipe(prompt=prompt, image=image, strength=0.6, guidance_scale=7.5)\n",
    "    return result.images[0]\n",
    "\n",
    "# # test the function\n",
    "# image = Image.open('stick_figure.png')\n",
    "# resized_image, original_size = preprocess_image('stick_figure.png')\n",
    "# painting = convert_to_painting(resized_image)\n",
    "# painting.show()"
   ],
   "outputs": [],
   "execution_count": 5
  },
  {
   "cell_type": "markdown",
   "id": "4ae2298601376a03",
   "metadata": {},
   "source": [
    "## Step 6: Run the Application\n",
    "\n",
    "Finally, we will run the PyQt application within the Jupyter Notebook.\n"
   ]
  },
  {
   "cell_type": "code",
   "id": "3a8c19543691eaea",
   "metadata": {
    "ExecuteTime": {
     "end_time": "2024-07-26T23:28:09.402627Z",
     "start_time": "2024-07-26T23:28:05.411013Z"
    }
   },
   "source": [
    "def run_app():\n",
    "    app = QApplication.instance()\n",
    "    if app is None:\n",
    "        app = QApplication(sys.argv)\n",
    "    window = DrawingApp()\n",
    "    window.show()\n",
    "    \n",
    "    app.exec_()\n",
    "\n",
    "\n",
    "# Run the application\n",
    "run_app()\n"
   ],
   "outputs": [],
   "execution_count": 6
  }
 ],
 "metadata": {
  "kernelspec": {
   "display_name": "Python 3 (ipykernel)",
   "language": "python",
   "name": "python3"
  },
  "language_info": {
   "codemirror_mode": {
    "name": "ipython",
    "version": 3
   },
   "file_extension": ".py",
   "mimetype": "text/x-python",
   "name": "python",
   "nbconvert_exporter": "python",
   "pygments_lexer": "ipython3",
   "version": "3.12.3"
  }
 },
 "nbformat": 4,
 "nbformat_minor": 5
}
